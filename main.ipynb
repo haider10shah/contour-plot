{
 "metadata": {
  "language_info": {
   "codemirror_mode": {
    "name": "ipython",
    "version": 3
   },
   "file_extension": ".py",
   "mimetype": "text/x-python",
   "name": "python",
   "nbconvert_exporter": "python",
   "pygments_lexer": "ipython3",
   "version": "3.8.5-final"
  },
  "orig_nbformat": 2,
  "kernelspec": {
   "name": "python3",
   "display_name": "Python 3",
   "language": "python"
  }
 },
 "nbformat": 4,
 "nbformat_minor": 2,
 "cells": [
  {
   "cell_type": "code",
   "execution_count": 72,
   "metadata": {},
   "outputs": [],
   "source": [
    "import plotly.graph_objects as go"
   ]
  },
  {
   "cell_type": "code",
   "execution_count": 73,
   "metadata": {},
   "outputs": [],
   "source": [
    "PROJECT_ROOT_DIR = \".\"\n",
    "DATA_PATH = os.path.join('data')"
   ]
  },
  {
   "cell_type": "code",
   "execution_count": 74,
   "metadata": {},
   "outputs": [],
   "source": [
    "import plotly.express as px\n",
    "def get_color_scales():\n",
    "    colors = px.colors.sequential.Greys.copy()\n",
    "    # Remove extremes\n",
    "    colors = colors[2:]\n",
    "    colors.reverse()\n",
    "    colors = colors[2:]\n",
    "    background_color = colors[0]\n",
    "    scale_color = colors[1:]\n",
    "    return background_color, scale_color"
   ]
  },
  {
   "cell_type": "code",
   "execution_count": 75,
   "metadata": {},
   "outputs": [],
   "source": [
    "# Setup global vars\n",
    "FIG_WIDTH = 800\n",
    "FIG_HEIGHT = 600\n",
    "FIG_X_AXIS_MAX = 1000\n",
    "FIG_Y_AXIS_MAX = 1000\n",
    "FIG_SCALE = 1\n",
    "BG_COLOR, COLOR_SCALE = get_color_scales()"
   ]
  },
  {
   "cell_type": "code",
   "execution_count": 162,
   "metadata": {},
   "outputs": [],
   "source": [
    "# Set up the figure plot\n",
    "def setup_figure(fig, set_background=True):\n",
    "    #fig = go.Figure()\n",
    "    fig.update_xaxes(range=[0, FIG_X_AXIS_MAX], showgrid=False)\n",
    "    fig.update_yaxes(range=[0, FIG_Y_AXIS_MAX], showgrid=False)\n",
    "    fig.update_layout(width=FIG_WIDTH, height=FIG_HEIGHT)\n",
    "    if set_background:\n",
    "        fig.layout.plot_bgcolor = 'rgb(37,37,37)'\n",
    "        #fig.layout.paper_bgcolor = 'rgb(37,37,37)'\n",
    "    return fig\n"
   ]
  },
  {
   "cell_type": "code",
   "execution_count": 113,
   "metadata": {},
   "outputs": [],
   "source": [
    "# Function to add rectangle to the figure\n",
    "def add_rectangle(fig, x0, y0, x1, y1, z, scale=1):\n",
    "    x0 = x0 * scale\n",
    "    x1 = x1 * scale\n",
    "    y0 = y0 * scale\n",
    "    y1 = y1 * scale\n",
    "    fig = fig.add_shape(type='rect', x0=x0, x1=x1, y0=y0, y1=y1, fillcolor=get_color(z), line_color='rgb(0,0,0)', layer=\"below\")\n",
    "    label_text = 'z=' + str(z)\n",
    "    fig = add_rect_text(fig, x0, y0, label_text)\n",
    "    return fig"
   ]
  },
  {
   "cell_type": "code",
   "execution_count": 199,
   "metadata": {},
   "outputs": [],
   "source": [
    "# Function to add z information to rectangles\n",
    "def add_rect_text(fig, x0, y0, text, jitter=25):\n",
    "    fig.add_trace(go.Scatter(\n",
    "        x=[x0 + jitter],\n",
    "        y=[y0 + jitter],\n",
    "        text=[text],\n",
    "        hoverinfo='skip',\n",
    "        size=30,\n",
    "        mode='text',\n",
    "        \n",
    "    ))\n",
    "    return fig"
   ]
  },
  {
   "cell_type": "code",
   "execution_count": 104,
   "metadata": {},
   "outputs": [],
   "source": [
    "import json\n",
    "# Function to load rectange data from file\n",
    "def json_to_list(file_name):\n",
    "    file_path = os.path.join(DATA_PATH, file_name)\n",
    "    data_list = []\n",
    "    with open(file_path) as f:\n",
    "        d = json.load(f)\n",
    "        data = d['data']\n",
    "        for rect in data:\n",
    "            data_list.append(rect['rect'])\n",
    "    return data_list"
   ]
  },
  {
   "cell_type": "code",
   "execution_count": 105,
   "metadata": {},
   "outputs": [],
   "source": [
    "def get_color(z):\n",
    "    return COLOR_SCALE[z-1]"
   ]
  },
  {
   "cell_type": "code",
   "execution_count": 118,
   "metadata": {},
   "outputs": [],
   "source": [
    "def plot_rectangles(fig):\n",
    "    data_list = json_to_list('rects.json')\n",
    "    for data in data_list:\n",
    "        x0, y0, x1, y1, z = data\n",
    "        fig = add_rectangle(fig, x0=x0, y0=y0, x1=x1, y1=y1, z=z)\n",
    "    return fig"
   ]
  },
  {
   "cell_type": "code",
   "execution_count": 170,
   "metadata": {},
   "outputs": [],
   "source": [
    "import random\n",
    "import pandas as pd\n",
    "\n",
    "def generate_random_test_data(num=1000):\n",
    "    random_x = [random.randint(0, FIG_X_AXIS_MAX) for _ in range(num)]\n",
    "    random_y = [random.randint(0, FIG_Y_AXIS_MAX) for _ in range(num)]\n",
    "    random_z = [random.randint(0, 4) for _ in range(num)]\n",
    "    df = pd.DataFrame({'x': random_x, 'y': random_y, 'z': random_z})\n",
    "    return df"
   ]
  },
  {
   "cell_type": "code",
   "execution_count": 217,
   "metadata": {},
   "outputs": [],
   "source": [
    "def generate_player_data(num=100, jitter=30):\n",
    "    df_list = []\n",
    "    data_list = json_to_list('rects.json')\n",
    "    for data in data_list:\n",
    "        x0, y0, x1, y1, z = data\n",
    "        random_x = [random.randint(x0-jitter, x1+jitter) for _ in range(num)]\n",
    "        random_y = [random.randint(y0-jitter, y1+jitter) for _ in range(num)]\n",
    "        random_z = []\n",
    "        for x, y in zip(random_x, random_y):\n",
    "            if x >= x0 and x <= x1 and y >= y0 and y <= y1:\n",
    "                temp_z = z\n",
    "            else:\n",
    "                temp_z = 0\n",
    "            random_z.append(temp_z)\n",
    "        temp_df = pd.DataFrame({'x': random_x, 'y': random_y, 'z': random_z})\n",
    "        df_list.append(temp_df)\n",
    "    df = pd.concat(df_list)\n",
    "    return df\n"
   ]
  },
  {
   "cell_type": "code",
   "execution_count": 218,
   "metadata": {},
   "outputs": [
    {
     "output_type": "display_data",
     "data": {
      "application/vnd.plotly.v1+json": {
       "config": {
        "plotlyServerURL": "https://plot.ly"
       },
       "data": [
        {
         "hovertemplate": "x=%{x}<br>y=%{y}<br>z=%{marker.color}<extra></extra>",
         "legendgroup": "",
         "marker": {
          "color": [
           0,
           0,
           0,
           0,
           0,
           0,
           0,
           1,
           0,
           1,
           0,
           0,
           1,
           1,
           0,
           1,
           0,
           0,
           0,
           1,
           1,
           0,
           1,
           0,
           0,
           0,
           0,
           1,
           1,
           0,
           1,
           0,
           0,
           0,
           0,
           0,
           1,
           1,
           1,
           0,
           0,
           0,
           0,
           0,
           0,
           0,
           0,
           0,
           1,
           0,
           1,
           0,
           0,
           1,
           0,
           0,
           0,
           0,
           0,
           0,
           0,
           1,
           0,
           1,
           0,
           0,
           0,
           1,
           0,
           0,
           1,
           0,
           0,
           1,
           0,
           1,
           0,
           0,
           0,
           0,
           0,
           0,
           1,
           1,
           0,
           0,
           0,
           0,
           0,
           1,
           1,
           0,
           1,
           1,
           1,
           0,
           0,
           0,
           0,
           1,
           0,
           0,
           1,
           1,
           0,
           0,
           0,
           0,
           0,
           1,
           0,
           1,
           0,
           1,
           1,
           0,
           0,
           0,
           0,
           0,
           1,
           1,
           0,
           1,
           0,
           0,
           0,
           0,
           0,
           0,
           1,
           1,
           0,
           0,
           0,
           1,
           0,
           0,
           0,
           1,
           1,
           0,
           1,
           1,
           0,
           0,
           1,
           0,
           0,
           0,
           0,
           0,
           1,
           1,
           0,
           0,
           0,
           0,
           0,
           0,
           0,
           1,
           0,
           1,
           1,
           1,
           0,
           0,
           0,
           0,
           0,
           0,
           1,
           0,
           0,
           1,
           0,
           1,
           0,
           0,
           0,
           0,
           0,
           0,
           1,
           0,
           0,
           0,
           1,
           0,
           1,
           0,
           0,
           0,
           1,
           1,
           0,
           1,
           0,
           1,
           0,
           2,
           0,
           2,
           2,
           2,
           2,
           0,
           0,
           2,
           0,
           0,
           0,
           2,
           2,
           0,
           0,
           0,
           0,
           0,
           2,
           2,
           0,
           0,
           2,
           2,
           0,
           2,
           0,
           0,
           0,
           0,
           2,
           0,
           2,
           2,
           2,
           0,
           0,
           2,
           0,
           0,
           0,
           0,
           2,
           2,
           0,
           2,
           0,
           0,
           0,
           0,
           0,
           0,
           0,
           2,
           2,
           2,
           0,
           2,
           2,
           0,
           2,
           0,
           0,
           2,
           0,
           2,
           2,
           0,
           2,
           2,
           0,
           2,
           2,
           0,
           0,
           0,
           2,
           0,
           0,
           2,
           2,
           2,
           2,
           0,
           2,
           0,
           2,
           0,
           2,
           0,
           0,
           2,
           2,
           2,
           2,
           0,
           0,
           2,
           3,
           3,
           0,
           0,
           0,
           3,
           0,
           0,
           0,
           3,
           3,
           0,
           0,
           0,
           0,
           0,
           3,
           0,
           3,
           3,
           3,
           0,
           3,
           0,
           0,
           3,
           3,
           3,
           0,
           0,
           3,
           0,
           3,
           0,
           0,
           0,
           0,
           3,
           3,
           3,
           3,
           3,
           0,
           0,
           0,
           0,
           0,
           0,
           0,
           3,
           0,
           0,
           3,
           3,
           3,
           0,
           0,
           3,
           3,
           3,
           3,
           3,
           0,
           0,
           0,
           0,
           3,
           0,
           3,
           0,
           3,
           0,
           0,
           3,
           0,
           3,
           0,
           3,
           3,
           0,
           0,
           3,
           3,
           3,
           3,
           0,
           3,
           3,
           0,
           3,
           0,
           3,
           0,
           0,
           0,
           0,
           0,
           0,
           0,
           3,
           3,
           0,
           0,
           3,
           3,
           3,
           3,
           0,
           0,
           0,
           0,
           3,
           3,
           3,
           0,
           0,
           0,
           3,
           3,
           0,
           0,
           0,
           0,
           0,
           3,
           3,
           0,
           0,
           3,
           0,
           0,
           0,
           0,
           3,
           0,
           0,
           0,
           0,
           0,
           3,
           0,
           0,
           3,
           0,
           0,
           0,
           0,
           0,
           0,
           3,
           3,
           3,
           3,
           0,
           0,
           3,
           3,
           3,
           0,
           0,
           3,
           0,
           3,
           3,
           3,
           0,
           0,
           3,
           0,
           0,
           3,
           0,
           0,
           0,
           3,
           0,
           0,
           0,
           0,
           3,
           3,
           0,
           3,
           0,
           3,
           0,
           0,
           3,
           0,
           3,
           3,
           3,
           0,
           3,
           3,
           0,
           0,
           0,
           0,
           3,
           4,
           0,
           4,
           0,
           0,
           0,
           0,
           0,
           4,
           0,
           4,
           4,
           4,
           0,
           0,
           0,
           4,
           4,
           4,
           4,
           0,
           4,
           0,
           4,
           4,
           4,
           0,
           4,
           4,
           0,
           4,
           0,
           4,
           0,
           4,
           4,
           4,
           4,
           0,
           0,
           4,
           0,
           0,
           0,
           4,
           0,
           0,
           4,
           0,
           4,
           0,
           0,
           0,
           4,
           4,
           0,
           0,
           4,
           4,
           4,
           4,
           4,
           4,
           0,
           4,
           0,
           4,
           4,
           0,
           0,
           0,
           4,
           0,
           4,
           4,
           0,
           4,
           4,
           4,
           0,
           0,
           0,
           0,
           4,
           0,
           4,
           0,
           0,
           0,
           0,
           4,
           0,
           0,
           0,
           0,
           4,
           0,
           0,
           4,
           0
          ],
          "coloraxis": "coloraxis",
          "opacity": 0.3,
          "symbol": "circle"
         },
         "mode": "markers",
         "name": "",
         "orientation": "v",
         "showlegend": false,
         "type": "scatter",
         "x": [
          212,
          125,
          189,
          143,
          86,
          144,
          218,
          182,
          225,
          124,
          225,
          193,
          106,
          132,
          219,
          179,
          78,
          77,
          156,
          107,
          145,
          188,
          145,
          72,
          222,
          184,
          80,
          192,
          131,
          83,
          132,
          148,
          150,
          113,
          139,
          163,
          169,
          197,
          144,
          98,
          212,
          73,
          181,
          185,
          167,
          175,
          72,
          202,
          182,
          199,
          129,
          89,
          140,
          128,
          107,
          80,
          82,
          77,
          76,
          81,
          201,
          181,
          173,
          155,
          147,
          89,
          194,
          123,
          108,
          204,
          160,
          144,
          96,
          131,
          228,
          147,
          102,
          208,
          170,
          124,
          87,
          75,
          133,
          111,
          82,
          221,
          190,
          178,
          79,
          119,
          169,
          75,
          120,
          178,
          153,
          139,
          82,
          181,
          229,
          126,
          274,
          341,
          362,
          347,
          398,
          428,
          359,
          286,
          310,
          399,
          412,
          389,
          303,
          332,
          367,
          331,
          292,
          281,
          277,
          337,
          359,
          394,
          423,
          313,
          342,
          407,
          356,
          423,
          406,
          359,
          390,
          303,
          361,
          274,
          340,
          399,
          276,
          339,
          409,
          398,
          328,
          429,
          316,
          324,
          293,
          384,
          373,
          301,
          316,
          278,
          352,
          331,
          336,
          339,
          296,
          390,
          284,
          416,
          281,
          385,
          417,
          336,
          292,
          317,
          364,
          370,
          419,
          390,
          271,
          422,
          415,
          429,
          376,
          295,
          430,
          319,
          345,
          377,
          352,
          284,
          403,
          413,
          282,
          416,
          387,
          311,
          281,
          407,
          390,
          343,
          348,
          420,
          281,
          406,
          325,
          346,
          403,
          317,
          304,
          371,
          504,
          675,
          593,
          694,
          620,
          520,
          603,
          491,
          724,
          539,
          497,
          730,
          712,
          605,
          690,
          651,
          674,
          503,
          556,
          712,
          615,
          627,
          715,
          715,
          546,
          699,
          514,
          532,
          493,
          725,
          529,
          664,
          570,
          539,
          607,
          684,
          608,
          669,
          728,
          563,
          502,
          673,
          714,
          470,
          698,
          681,
          475,
          599,
          715,
          722,
          678,
          536,
          673,
          636,
          513,
          590,
          578,
          660,
          624,
          645,
          545,
          708,
          507,
          723,
          720,
          546,
          496,
          618,
          669,
          474,
          615,
          588,
          599,
          548,
          525,
          479,
          498,
          704,
          685,
          509,
          485,
          625,
          510,
          560,
          573,
          707,
          634,
          704,
          506,
          708,
          692,
          728,
          633,
          697,
          634,
          501,
          535,
          625,
          702,
          616,
          658,
          624,
          644,
          582,
          572,
          689,
          702,
          592,
          643,
          638,
          658,
          572,
          689,
          595,
          723,
          595,
          633,
          660,
          694,
          628,
          632,
          676,
          677,
          717,
          570,
          700,
          662,
          612,
          622,
          701,
          609,
          587,
          628,
          581,
          699,
          715,
          625,
          602,
          630,
          684,
          643,
          628,
          718,
          729,
          678,
          705,
          676,
          712,
          720,
          635,
          663,
          570,
          643,
          686,
          659,
          571,
          717,
          604,
          667,
          699,
          678,
          631,
          662,
          595,
          704,
          712,
          691,
          710,
          671,
          624,
          660,
          676,
          629,
          682,
          730,
          626,
          590,
          607,
          619,
          642,
          628,
          621,
          697,
          622,
          603,
          613,
          650,
          619,
          719,
          683,
          707,
          622,
          720,
          574,
          576,
          591,
          678,
          628,
          729,
          662,
          602,
          686,
          591,
          663,
          693,
          619,
          661,
          579,
          717,
          710,
          620,
          614,
          604,
          622,
          570,
          694,
          730,
          657,
          699,
          710,
          704,
          724,
          728,
          651,
          629,
          606,
          706,
          592,
          685,
          602,
          574,
          576,
          706,
          639,
          701,
          709,
          583,
          709,
          701,
          633,
          716,
          587,
          609,
          591,
          593,
          707,
          589,
          713,
          724,
          680,
          671,
          677,
          621,
          608,
          716,
          690,
          655,
          657,
          730,
          612,
          686,
          572,
          616,
          636,
          632,
          649,
          649,
          652,
          713,
          620,
          693,
          653,
          590,
          723,
          643,
          725,
          628,
          577,
          719,
          693,
          606,
          621,
          644,
          676,
          634,
          601,
          705,
          664,
          578,
          672,
          627,
          631,
          715,
          683,
          650,
          675,
          577,
          581,
          649,
          669,
          762,
          674,
          651,
          829,
          821,
          751,
          625,
          588,
          603,
          619,
          609,
          787,
          701,
          732,
          794,
          742,
          748,
          793,
          711,
          648,
          570,
          761,
          575,
          616,
          722,
          621,
          745,
          607,
          608,
          668,
          770,
          759,
          748,
          576,
          671,
          651,
          748,
          750,
          599,
          579,
          730,
          824,
          641,
          717,
          717,
          821,
          631,
          690,
          651,
          735,
          577,
          617,
          806,
          701,
          670,
          570,
          730,
          741,
          661,
          775,
          687,
          800,
          715,
          792,
          722,
          574,
          744,
          695,
          812,
          731,
          789,
          612,
          639,
          615,
          750,
          625,
          734,
          661,
          777,
          601,
          618,
          787,
          752,
          680,
          781,
          749,
          778,
          631,
          662,
          637,
          635,
          592,
          572,
          818,
          736,
          744,
          649,
          775,
          783,
          817
         ],
         "xaxis": "x",
         "y": [
          138,
          80,
          77,
          223,
          211,
          86,
          77,
          159,
          221,
          173,
          178,
          203,
          191,
          199,
          75,
          199,
          175,
          194,
          204,
          128,
          200,
          72,
          117,
          205,
          206,
          84,
          134,
          121,
          169,
          160,
          121,
          71,
          94,
          83,
          214,
          220,
          159,
          105,
          158,
          215,
          175,
          227,
          220,
          79,
          74,
          203,
          82,
          225,
          189,
          229,
          169,
          130,
          73,
          200,
          80,
          223,
          162,
          82,
          210,
          164,
          157,
          190,
          70,
          118,
          215,
          147,
          70,
          178,
          96,
          140,
          105,
          217,
          205,
          176,
          92,
          156,
          87,
          185,
          223,
          95,
          90,
          218,
          181,
          199,
          158,
          163,
          221,
          75,
          120,
          196,
          145,
          181,
          112,
          172,
          100,
          77,
          200,
          94,
          96,
          199,
          226,
          87,
          145,
          134,
          70,
          125,
          82,
          149,
          207,
          132,
          215,
          156,
          203,
          134,
          187,
          206,
          71,
          100,
          90,
          222,
          200,
          198,
          81,
          119,
          208,
          198,
          217,
          75,
          129,
          220,
          125,
          152,
          213,
          213,
          80,
          114,
          95,
          77,
          183,
          198,
          174,
          213,
          156,
          200,
          80,
          70,
          163,
          77,
          204,
          92,
          95,
          93,
          151,
          138,
          142,
          77,
          94,
          96,
          164,
          83,
          151,
          131,
          115,
          160,
          161,
          113,
          197,
          225,
          136,
          129,
          108,
          120,
          179,
          199,
          209,
          139,
          73,
          154,
          88,
          171,
          72,
          106,
          200,
          94,
          101,
          209,
          200,
          75,
          175,
          95,
          106,
          98,
          115,
          171,
          165,
          146,
          152,
          183,
          223,
          116,
          208,
          165,
          228,
          177,
          130,
          122,
          199,
          161,
          213,
          156,
          151,
          161,
          189,
          185,
          157,
          80,
          209,
          215,
          201,
          224,
          166,
          180,
          140,
          112,
          187,
          199,
          216,
          168,
          93,
          125,
          97,
          71,
          142,
          93,
          143,
          161,
          161,
          202,
          201,
          199,
          95,
          87,
          78,
          127,
          118,
          144,
          79,
          200,
          103,
          98,
          81,
          96,
          77,
          70,
          205,
          123,
          114,
          119,
          82,
          168,
          180,
          134,
          171,
          223,
          124,
          125,
          164,
          127,
          153,
          96,
          152,
          160,
          218,
          128,
          106,
          110,
          152,
          130,
          196,
          216,
          164,
          192,
          188,
          185,
          188,
          76,
          192,
          171,
          130,
          168,
          148,
          96,
          218,
          156,
          115,
          177,
          125,
          207,
          126,
          120,
          316,
          300,
          423,
          282,
          310,
          384,
          367,
          307,
          277,
          335,
          375,
          357,
          289,
          409,
          377,
          321,
          332,
          280,
          332,
          301,
          345,
          289,
          330,
          425,
          381,
          373,
          396,
          328,
          272,
          323,
          353,
          325,
          342,
          410,
          420,
          347,
          412,
          346,
          385,
          364,
          366,
          326,
          345,
          413,
          279,
          309,
          407,
          297,
          337,
          374,
          426,
          273,
          316,
          394,
          323,
          356,
          396,
          342,
          346,
          367,
          326,
          388,
          274,
          353,
          396,
          312,
          367,
          342,
          344,
          422,
          334,
          416,
          427,
          379,
          390,
          348,
          329,
          309,
          310,
          288,
          430,
          395,
          310,
          365,
          312,
          424,
          336,
          312,
          284,
          390,
          303,
          301,
          289,
          426,
          324,
          355,
          423,
          295,
          425,
          374,
          523,
          615,
          527,
          511,
          527,
          565,
          566,
          582,
          504,
          525,
          475,
          504,
          507,
          551,
          560,
          629,
          551,
          545,
          567,
          576,
          532,
          613,
          503,
          609,
          519,
          586,
          480,
          544,
          576,
          491,
          575,
          482,
          622,
          535,
          601,
          532,
          555,
          507,
          489,
          551,
          508,
          502,
          562,
          500,
          516,
          479,
          599,
          610,
          609,
          529,
          513,
          521,
          563,
          489,
          561,
          584,
          516,
          593,
          619,
          482,
          580,
          626,
          500,
          578,
          514,
          483,
          622,
          540,
          622,
          629,
          555,
          477,
          586,
          497,
          509,
          576,
          624,
          582,
          541,
          574,
          573,
          491,
          512,
          606,
          548,
          470,
          550,
          547,
          623,
          584,
          581,
          565,
          515,
          575,
          541,
          491,
          615,
          553,
          491,
          513,
          730,
          810,
          760,
          704,
          732,
          802,
          687,
          785,
          766,
          815,
          780,
          724,
          755,
          695,
          674,
          806,
          704,
          716,
          792,
          770,
          774,
          743,
          709,
          790,
          765,
          786,
          807,
          783,
          743,
          674,
          788,
          826,
          740,
          726,
          743,
          781,
          708,
          726,
          774,
          762,
          783,
          813,
          803,
          820,
          758,
          711,
          678,
          703,
          819,
          786,
          723,
          805,
          808,
          743,
          739,
          770,
          690,
          737,
          750,
          726,
          734,
          771,
          770,
          803,
          755,
          670,
          794,
          755,
          805,
          813,
          692,
          775,
          695,
          751,
          723,
          686,
          779,
          792,
          755,
          810,
          685,
          817,
          803,
          707,
          692,
          777,
          828,
          808,
          823,
          810,
          800,
          738,
          807,
          793,
          803,
          708,
          807,
          694,
          707,
          830
         ],
         "yaxis": "y"
        },
        {
         "hoverinfo": "skip",
         "mode": "text",
         "text": [
          "z=1"
         ],
         "type": "scatter",
         "x": [
          125
         ],
         "y": [
          125
         ]
        },
        {
         "hoverinfo": "skip",
         "mode": "text",
         "text": [
          "z=1"
         ],
         "type": "scatter",
         "x": [
          325
         ],
         "y": [
          125
         ]
        },
        {
         "hoverinfo": "skip",
         "mode": "text",
         "text": [
          "z=2"
         ],
         "type": "scatter",
         "x": [
          525
         ],
         "y": [
          125
         ]
        },
        {
         "hoverinfo": "skip",
         "mode": "text",
         "text": [
          "z=3"
         ],
         "type": "scatter",
         "x": [
          625
         ],
         "y": [
          325
         ]
        },
        {
         "hoverinfo": "skip",
         "mode": "text",
         "text": [
          "z=3"
         ],
         "type": "scatter",
         "x": [
          625
         ],
         "y": [
          525
         ]
        },
        {
         "hoverinfo": "skip",
         "mode": "text",
         "text": [
          "z=4"
         ],
         "type": "scatter",
         "x": [
          625
         ],
         "y": [
          725
         ]
        }
       ],
       "layout": {
        "coloraxis": {
         "colorbar": {
          "title": {
           "text": "z"
          }
         },
         "colorscale": [
          [
           0,
           "rgb(0,0,131)"
          ],
          [
           0.2,
           "rgb(0,60,170)"
          ],
          [
           0.4,
           "rgb(5,255,255)"
          ],
          [
           0.6,
           "rgb(255,255,0)"
          ],
          [
           0.8,
           "rgb(250,0,0)"
          ],
          [
           1,
           "rgb(128,0,0)"
          ]
         ]
        },
        "height": 600,
        "legend": {
         "tracegroupgap": 0
        },
        "margin": {
         "t": 60
        },
        "plot_bgcolor": "rgb(82,82,82)",
        "shapes": [
         {
          "fillcolor": "rgb(115,115,115)",
          "layer": "below",
          "line": {
           "color": "rgb(0,0,0)"
          },
          "type": "rect",
          "x0": 100,
          "x1": 200,
          "y0": 100,
          "y1": 200
         },
         {
          "fillcolor": "rgb(115,115,115)",
          "layer": "below",
          "line": {
           "color": "rgb(0,0,0)"
          },
          "type": "rect",
          "x0": 300,
          "x1": 400,
          "y0": 100,
          "y1": 200
         },
         {
          "fillcolor": "rgb(150,150,150)",
          "layer": "below",
          "line": {
           "color": "rgb(0,0,0)"
          },
          "type": "rect",
          "x0": 500,
          "x1": 700,
          "y0": 100,
          "y1": 200
         },
         {
          "fillcolor": "rgb(189,189,189)",
          "layer": "below",
          "line": {
           "color": "rgb(0,0,0)"
          },
          "type": "rect",
          "x0": 600,
          "x1": 700,
          "y0": 300,
          "y1": 400
         },
         {
          "fillcolor": "rgb(189,189,189)",
          "layer": "below",
          "line": {
           "color": "rgb(0,0,0)"
          },
          "type": "rect",
          "x0": 600,
          "x1": 700,
          "y0": 500,
          "y1": 600
         },
         {
          "fillcolor": "rgb(217,217,217)",
          "layer": "below",
          "line": {
           "color": "rgb(0,0,0)"
          },
          "type": "rect",
          "x0": 600,
          "x1": 800,
          "y0": 700,
          "y1": 800
         }
        ],
        "showlegend": false,
        "template": {
         "data": {
          "bar": [
           {
            "error_x": {
             "color": "#2a3f5f"
            },
            "error_y": {
             "color": "#2a3f5f"
            },
            "marker": {
             "line": {
              "color": "#E5ECF6",
              "width": 0.5
             }
            },
            "type": "bar"
           }
          ],
          "barpolar": [
           {
            "marker": {
             "line": {
              "color": "#E5ECF6",
              "width": 0.5
             }
            },
            "type": "barpolar"
           }
          ],
          "carpet": [
           {
            "aaxis": {
             "endlinecolor": "#2a3f5f",
             "gridcolor": "white",
             "linecolor": "white",
             "minorgridcolor": "white",
             "startlinecolor": "#2a3f5f"
            },
            "baxis": {
             "endlinecolor": "#2a3f5f",
             "gridcolor": "white",
             "linecolor": "white",
             "minorgridcolor": "white",
             "startlinecolor": "#2a3f5f"
            },
            "type": "carpet"
           }
          ],
          "choropleth": [
           {
            "colorbar": {
             "outlinewidth": 0,
             "ticks": ""
            },
            "type": "choropleth"
           }
          ],
          "contour": [
           {
            "colorbar": {
             "outlinewidth": 0,
             "ticks": ""
            },
            "colorscale": [
             [
              0,
              "#0d0887"
             ],
             [
              0.1111111111111111,
              "#46039f"
             ],
             [
              0.2222222222222222,
              "#7201a8"
             ],
             [
              0.3333333333333333,
              "#9c179e"
             ],
             [
              0.4444444444444444,
              "#bd3786"
             ],
             [
              0.5555555555555556,
              "#d8576b"
             ],
             [
              0.6666666666666666,
              "#ed7953"
             ],
             [
              0.7777777777777778,
              "#fb9f3a"
             ],
             [
              0.8888888888888888,
              "#fdca26"
             ],
             [
              1,
              "#f0f921"
             ]
            ],
            "type": "contour"
           }
          ],
          "contourcarpet": [
           {
            "colorbar": {
             "outlinewidth": 0,
             "ticks": ""
            },
            "type": "contourcarpet"
           }
          ],
          "heatmap": [
           {
            "colorbar": {
             "outlinewidth": 0,
             "ticks": ""
            },
            "colorscale": [
             [
              0,
              "#0d0887"
             ],
             [
              0.1111111111111111,
              "#46039f"
             ],
             [
              0.2222222222222222,
              "#7201a8"
             ],
             [
              0.3333333333333333,
              "#9c179e"
             ],
             [
              0.4444444444444444,
              "#bd3786"
             ],
             [
              0.5555555555555556,
              "#d8576b"
             ],
             [
              0.6666666666666666,
              "#ed7953"
             ],
             [
              0.7777777777777778,
              "#fb9f3a"
             ],
             [
              0.8888888888888888,
              "#fdca26"
             ],
             [
              1,
              "#f0f921"
             ]
            ],
            "type": "heatmap"
           }
          ],
          "heatmapgl": [
           {
            "colorbar": {
             "outlinewidth": 0,
             "ticks": ""
            },
            "colorscale": [
             [
              0,
              "#0d0887"
             ],
             [
              0.1111111111111111,
              "#46039f"
             ],
             [
              0.2222222222222222,
              "#7201a8"
             ],
             [
              0.3333333333333333,
              "#9c179e"
             ],
             [
              0.4444444444444444,
              "#bd3786"
             ],
             [
              0.5555555555555556,
              "#d8576b"
             ],
             [
              0.6666666666666666,
              "#ed7953"
             ],
             [
              0.7777777777777778,
              "#fb9f3a"
             ],
             [
              0.8888888888888888,
              "#fdca26"
             ],
             [
              1,
              "#f0f921"
             ]
            ],
            "type": "heatmapgl"
           }
          ],
          "histogram": [
           {
            "marker": {
             "colorbar": {
              "outlinewidth": 0,
              "ticks": ""
             }
            },
            "type": "histogram"
           }
          ],
          "histogram2d": [
           {
            "colorbar": {
             "outlinewidth": 0,
             "ticks": ""
            },
            "colorscale": [
             [
              0,
              "#0d0887"
             ],
             [
              0.1111111111111111,
              "#46039f"
             ],
             [
              0.2222222222222222,
              "#7201a8"
             ],
             [
              0.3333333333333333,
              "#9c179e"
             ],
             [
              0.4444444444444444,
              "#bd3786"
             ],
             [
              0.5555555555555556,
              "#d8576b"
             ],
             [
              0.6666666666666666,
              "#ed7953"
             ],
             [
              0.7777777777777778,
              "#fb9f3a"
             ],
             [
              0.8888888888888888,
              "#fdca26"
             ],
             [
              1,
              "#f0f921"
             ]
            ],
            "type": "histogram2d"
           }
          ],
          "histogram2dcontour": [
           {
            "colorbar": {
             "outlinewidth": 0,
             "ticks": ""
            },
            "colorscale": [
             [
              0,
              "#0d0887"
             ],
             [
              0.1111111111111111,
              "#46039f"
             ],
             [
              0.2222222222222222,
              "#7201a8"
             ],
             [
              0.3333333333333333,
              "#9c179e"
             ],
             [
              0.4444444444444444,
              "#bd3786"
             ],
             [
              0.5555555555555556,
              "#d8576b"
             ],
             [
              0.6666666666666666,
              "#ed7953"
             ],
             [
              0.7777777777777778,
              "#fb9f3a"
             ],
             [
              0.8888888888888888,
              "#fdca26"
             ],
             [
              1,
              "#f0f921"
             ]
            ],
            "type": "histogram2dcontour"
           }
          ],
          "mesh3d": [
           {
            "colorbar": {
             "outlinewidth": 0,
             "ticks": ""
            },
            "type": "mesh3d"
           }
          ],
          "parcoords": [
           {
            "line": {
             "colorbar": {
              "outlinewidth": 0,
              "ticks": ""
             }
            },
            "type": "parcoords"
           }
          ],
          "pie": [
           {
            "automargin": true,
            "type": "pie"
           }
          ],
          "scatter": [
           {
            "marker": {
             "colorbar": {
              "outlinewidth": 0,
              "ticks": ""
             }
            },
            "type": "scatter"
           }
          ],
          "scatter3d": [
           {
            "line": {
             "colorbar": {
              "outlinewidth": 0,
              "ticks": ""
             }
            },
            "marker": {
             "colorbar": {
              "outlinewidth": 0,
              "ticks": ""
             }
            },
            "type": "scatter3d"
           }
          ],
          "scattercarpet": [
           {
            "marker": {
             "colorbar": {
              "outlinewidth": 0,
              "ticks": ""
             }
            },
            "type": "scattercarpet"
           }
          ],
          "scattergeo": [
           {
            "marker": {
             "colorbar": {
              "outlinewidth": 0,
              "ticks": ""
             }
            },
            "type": "scattergeo"
           }
          ],
          "scattergl": [
           {
            "marker": {
             "colorbar": {
              "outlinewidth": 0,
              "ticks": ""
             }
            },
            "type": "scattergl"
           }
          ],
          "scattermapbox": [
           {
            "marker": {
             "colorbar": {
              "outlinewidth": 0,
              "ticks": ""
             }
            },
            "type": "scattermapbox"
           }
          ],
          "scatterpolar": [
           {
            "marker": {
             "colorbar": {
              "outlinewidth": 0,
              "ticks": ""
             }
            },
            "type": "scatterpolar"
           }
          ],
          "scatterpolargl": [
           {
            "marker": {
             "colorbar": {
              "outlinewidth": 0,
              "ticks": ""
             }
            },
            "type": "scatterpolargl"
           }
          ],
          "scatterternary": [
           {
            "marker": {
             "colorbar": {
              "outlinewidth": 0,
              "ticks": ""
             }
            },
            "type": "scatterternary"
           }
          ],
          "surface": [
           {
            "colorbar": {
             "outlinewidth": 0,
             "ticks": ""
            },
            "colorscale": [
             [
              0,
              "#0d0887"
             ],
             [
              0.1111111111111111,
              "#46039f"
             ],
             [
              0.2222222222222222,
              "#7201a8"
             ],
             [
              0.3333333333333333,
              "#9c179e"
             ],
             [
              0.4444444444444444,
              "#bd3786"
             ],
             [
              0.5555555555555556,
              "#d8576b"
             ],
             [
              0.6666666666666666,
              "#ed7953"
             ],
             [
              0.7777777777777778,
              "#fb9f3a"
             ],
             [
              0.8888888888888888,
              "#fdca26"
             ],
             [
              1,
              "#f0f921"
             ]
            ],
            "type": "surface"
           }
          ],
          "table": [
           {
            "cells": {
             "fill": {
              "color": "#EBF0F8"
             },
             "line": {
              "color": "white"
             }
            },
            "header": {
             "fill": {
              "color": "#C8D4E3"
             },
             "line": {
              "color": "white"
             }
            },
            "type": "table"
           }
          ]
         },
         "layout": {
          "annotationdefaults": {
           "arrowcolor": "#2a3f5f",
           "arrowhead": 0,
           "arrowwidth": 1
          },
          "autotypenumbers": "strict",
          "coloraxis": {
           "colorbar": {
            "outlinewidth": 0,
            "ticks": ""
           }
          },
          "colorscale": {
           "diverging": [
            [
             0,
             "#8e0152"
            ],
            [
             0.1,
             "#c51b7d"
            ],
            [
             0.2,
             "#de77ae"
            ],
            [
             0.3,
             "#f1b6da"
            ],
            [
             0.4,
             "#fde0ef"
            ],
            [
             0.5,
             "#f7f7f7"
            ],
            [
             0.6,
             "#e6f5d0"
            ],
            [
             0.7,
             "#b8e186"
            ],
            [
             0.8,
             "#7fbc41"
            ],
            [
             0.9,
             "#4d9221"
            ],
            [
             1,
             "#276419"
            ]
           ],
           "sequential": [
            [
             0,
             "#0d0887"
            ],
            [
             0.1111111111111111,
             "#46039f"
            ],
            [
             0.2222222222222222,
             "#7201a8"
            ],
            [
             0.3333333333333333,
             "#9c179e"
            ],
            [
             0.4444444444444444,
             "#bd3786"
            ],
            [
             0.5555555555555556,
             "#d8576b"
            ],
            [
             0.6666666666666666,
             "#ed7953"
            ],
            [
             0.7777777777777778,
             "#fb9f3a"
            ],
            [
             0.8888888888888888,
             "#fdca26"
            ],
            [
             1,
             "#f0f921"
            ]
           ],
           "sequentialminus": [
            [
             0,
             "#0d0887"
            ],
            [
             0.1111111111111111,
             "#46039f"
            ],
            [
             0.2222222222222222,
             "#7201a8"
            ],
            [
             0.3333333333333333,
             "#9c179e"
            ],
            [
             0.4444444444444444,
             "#bd3786"
            ],
            [
             0.5555555555555556,
             "#d8576b"
            ],
            [
             0.6666666666666666,
             "#ed7953"
            ],
            [
             0.7777777777777778,
             "#fb9f3a"
            ],
            [
             0.8888888888888888,
             "#fdca26"
            ],
            [
             1,
             "#f0f921"
            ]
           ]
          },
          "colorway": [
           "#636efa",
           "#EF553B",
           "#00cc96",
           "#ab63fa",
           "#FFA15A",
           "#19d3f3",
           "#FF6692",
           "#B6E880",
           "#FF97FF",
           "#FECB52"
          ],
          "font": {
           "color": "#2a3f5f"
          },
          "geo": {
           "bgcolor": "white",
           "lakecolor": "white",
           "landcolor": "#E5ECF6",
           "showlakes": true,
           "showland": true,
           "subunitcolor": "white"
          },
          "hoverlabel": {
           "align": "left"
          },
          "hovermode": "closest",
          "mapbox": {
           "style": "light"
          },
          "paper_bgcolor": "white",
          "plot_bgcolor": "#E5ECF6",
          "polar": {
           "angularaxis": {
            "gridcolor": "white",
            "linecolor": "white",
            "ticks": ""
           },
           "bgcolor": "#E5ECF6",
           "radialaxis": {
            "gridcolor": "white",
            "linecolor": "white",
            "ticks": ""
           }
          },
          "scene": {
           "xaxis": {
            "backgroundcolor": "#E5ECF6",
            "gridcolor": "white",
            "gridwidth": 2,
            "linecolor": "white",
            "showbackground": true,
            "ticks": "",
            "zerolinecolor": "white"
           },
           "yaxis": {
            "backgroundcolor": "#E5ECF6",
            "gridcolor": "white",
            "gridwidth": 2,
            "linecolor": "white",
            "showbackground": true,
            "ticks": "",
            "zerolinecolor": "white"
           },
           "zaxis": {
            "backgroundcolor": "#E5ECF6",
            "gridcolor": "white",
            "gridwidth": 2,
            "linecolor": "white",
            "showbackground": true,
            "ticks": "",
            "zerolinecolor": "white"
           }
          },
          "shapedefaults": {
           "line": {
            "color": "#2a3f5f"
           }
          },
          "ternary": {
           "aaxis": {
            "gridcolor": "white",
            "linecolor": "white",
            "ticks": ""
           },
           "baxis": {
            "gridcolor": "white",
            "linecolor": "white",
            "ticks": ""
           },
           "bgcolor": "#E5ECF6",
           "caxis": {
            "gridcolor": "white",
            "linecolor": "white",
            "ticks": ""
           }
          },
          "title": {
           "x": 0.05
          },
          "xaxis": {
           "automargin": true,
           "gridcolor": "white",
           "linecolor": "white",
           "ticks": "",
           "title": {
            "standoff": 15
           },
           "zerolinecolor": "white",
           "zerolinewidth": 2
          },
          "yaxis": {
           "automargin": true,
           "gridcolor": "white",
           "linecolor": "white",
           "ticks": "",
           "title": {
            "standoff": 15
           },
           "zerolinecolor": "white",
           "zerolinewidth": 2
          }
         }
        },
        "width": 800,
        "xaxis": {
         "anchor": "y",
         "domain": [
          0,
          1
         ],
         "range": [
          0,
          1000
         ],
         "showgrid": false,
         "title": {
          "text": "x"
         }
        },
        "yaxis": {
         "anchor": "x",
         "domain": [
          0,
          1
         ],
         "range": [
          0,
          1000
         ],
         "showgrid": false,
         "title": {
          "text": "y"
         }
        }
       }
      }
     },
     "metadata": {}
    }
   ],
   "source": [
    "df_success = generate_player_data()\n",
    "df = pd.concat([df_success])\n",
    "fig = px.scatter(df, x='x', y='y', color='z', color_continuous_scale=px.colors.sequential.Jet, opacity=0.3)\n",
    "fig = setup_figure(fig)\n",
    "fig = plot_rectangles(fig)\n",
    "fig = fig.update_layout(showlegend=False)\n",
    "fig.show()"
   ]
  }
 ]
}